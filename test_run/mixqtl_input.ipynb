{
 "cells": [
  {
   "cell_type": "markdown",
   "metadata": {},
   "source": [
    "This notebook is for preparing input for mixQTL call.\n",
    "It is adapted from mixQTL_inputs.ipynb by Francois."
   ]
  },
  {
   "cell_type": "code",
   "execution_count": 6,
   "metadata": {},
   "outputs": [],
   "source": [
    "import numpy as np\n",
    "import gzip\n",
    "import pandas as pd\n",
    "import pyarrow"
   ]
  },
  {
   "cell_type": "code",
   "execution_count": 7,
   "metadata": {},
   "outputs": [],
   "source": [
    "datadir = '/gpfs/data/im-lab/nas40t2/yanyul/GEUVADIS-mixqtl'\n",
    "\n",
    "# input\n",
    "vcf = f'{datadir}/tempo-GEUVADIS.chr22.PH1PH2_465.IMPFRQFILT_BIALLELIC_PH.annotv2.genotypes.vcf.gz'\n",
    "\n",
    "\n",
    "# output\n",
    "hap1_file = f'{datadir}/tempo-GEUVADIS.chr22.PH1PH2_465.IMPFRQFILT_BIALLELIC_PH.annotv2.genotypes.hap1.parquet'\n",
    "hap2_file = f'{datadir}/tempo-GEUVADIS.chr22.PH1PH2_465.IMPFRQFILT_BIALLELIC_PH.annotv2.genotypes.hap2.parquet'"
   ]
  },
  {
   "cell_type": "code",
   "execution_count": 8,
   "metadata": {},
   "outputs": [
    {
     "name": "stdout",
     "output_type": "stream",
     "text": [
      "Variants parsed: 493000"
     ]
    }
   ],
   "source": [
    "# assuming 0|0, 0|1, 1|0, 1|1, .|., code per-haplotype dosages as 0, 1, or -1 (missing)\n",
    "\n",
    "gt_dict = {'0':np.int8(0), '1':np.int8(1), '.':np.int8(-1)}\n",
    "\n",
    "with gzip.open(vcf, 'rt') as f:\n",
    "    variant_ids = []\n",
    "    hap1 = []\n",
    "    hap2 = []\n",
    "    for line in f:\n",
    "        if line.startswith('##'):\n",
    "            continue\n",
    "        break\n",
    "    sample_ids = line.strip().split('\\t')[9:]\n",
    "\n",
    "    # read first line, parse field\n",
    "    line = f.readline().strip().split('\\t')\n",
    "    gt_ix = line[8].split(':').index('GT')\n",
    "    variant_ids.append(line[2])\n",
    "    d = [i.split(':')[gt_ix].split('|') if len(i.split(':')[gt_ix].split('|')) == 2 else ['.', '.'] for i in line[9:]]\n",
    "    hap1.append(np.array([gt_dict[i[0]] for i in d]))\n",
    "    hap2.append(np.array([gt_dict[i[1]] for i in d]))\n",
    "\n",
    "    for k,line in enumerate(f,2):\n",
    "        line = line.strip().split('\\t')\n",
    "        variant_ids.append(line[2])\n",
    "        d = [i.split(':')[gt_ix].split('|') if len(i.split(':')[gt_ix].split('|')) == 2 else ['.', '.'] for i in line[9:]]\n",
    "        hap1.append(np.array([gt_dict[i[0]] for i in d]))\n",
    "        hap2.append(np.array([gt_dict[i[1]] for i in d]))\n",
    "\n",
    "        if np.mod(k,1000)==0:\n",
    "            print('\\rVariants parsed: {}'.format(k), end='')\n"
   ]
  },
  {
   "cell_type": "code",
   "execution_count": 9,
   "metadata": {},
   "outputs": [],
   "source": [
    "hap1_df = pd.DataFrame(np.array(hap1), index=variant_ids, columns=sample_ids)\n",
    "hap1_df.to_parquet(hap1_file)  # , engine='fastparquet')\n",
    "\n",
    "hap2_df = pd.DataFrame(np.array(hap2), index=variant_ids, columns=sample_ids)\n",
    "hap2_df.to_parquet(hap2_file)  # , engine='fastparquet')"
   ]
  }
 ],
 "metadata": {
  "kernelspec": {
   "display_name": "Python 3",
   "language": "python",
   "name": "python3"
  },
  "language_info": {
   "codemirror_mode": {
    "name": "ipython",
    "version": 3
   },
   "file_extension": ".py",
   "mimetype": "text/x-python",
   "name": "python",
   "nbconvert_exporter": "python",
   "pygments_lexer": "ipython3",
   "version": "3.6.9"
  }
 },
 "nbformat": 4,
 "nbformat_minor": 4
}
